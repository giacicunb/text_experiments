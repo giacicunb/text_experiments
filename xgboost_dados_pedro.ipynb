{
 "cells": [
  {
   "cell_type": "markdown",
   "metadata": {},
   "source": [
    "# Experimento XGBoost"
   ]
  },
  {
   "cell_type": "markdown",
   "metadata": {},
   "source": [
    "Fontes primárias:\n",
    "- Tutorial Using XGBoost in Python: https://www.datacamp.com/community/tutorials/xgboost-in-python\n",
    "- Documentação XGBoost Python API: https://xgboost.readthedocs.io/en/latest/python/python_api.html\n",
    "- XGBoost Python Package Introduction: https://xgboost-clone.readthedocs.io/en/latest/python/python_intro.html\n",
    "- Hyperparameter tuning in XGBoost: https://blog.cambridgespark.com/hyperparameter-tuning-in-xgboost-4ff9100a3b2f"
   ]
  },
  {
   "cell_type": "markdown",
   "metadata": {},
   "source": [
    "### Import de ambos os arquivos csv:\n",
    " - train.csv, do trabalho de Pedro"
   ]
  },
  {
   "cell_type": "code",
   "execution_count": 1,
   "metadata": {},
   "outputs": [],
   "source": [
    "import pandas as pd\n",
    "import numpy as np\n",
    "import xgboost as xgb\n",
    "from sklearn.metrics import mean_squared_error"
   ]
  },
  {
   "cell_type": "code",
   "execution_count": 2,
   "metadata": {},
   "outputs": [
    {
     "name": "stdout",
     "output_type": "stream",
     "text": [
      "                                                label  \\\n",
      "10  SECRETARIA DE ESTADO DE DESENVOLVIMENTO URBANO...   \n",
      "11  SECRETARIA DE ESTADO DE FAZENDA, PLANEJAMENTO,...   \n",
      "12                      SECRETARIA DE ESTADO DE SAÚDE   \n",
      "13          SECRETARIA DE ESTADO DE SEGURANÇA PÚBLICA   \n",
      "\n",
      "                                                 text  is_valid  \n",
      "10  O Termo de Recebimento Definitivo declarará fo...     False  \n",
      "11  O DISTRITO FEDERAL, por intermédio da Diretori...     False  \n",
      "12  O SECRETÁRIO DE ESTADO DE SAÚDE DO DISTRITO FE...     False  \n",
      "13  O DIRETOR-GERAL DO DEPARTAMENTO DE TRÂNSITO DO...     False  \n"
     ]
    }
   ],
   "source": [
    "path_to_text = '/home/mstauffer/Documentos/UnB/9º Semestre/KnEDle/sprints/5_27_maio-03_junho/luz_de_araujo_etal_propor2020/data/clean/train.csv'\n",
    "data_peter = pd.read_csv(path_to_text, encoding='utf8')#[['v1', 'v2']]\n",
    "# Creating the feature set and label set\n",
    "textPT = data_peter['text']\n",
    "labelPT = data_peter['label']\n",
    "print(data_peter[10:14])"
   ]
  },
  {
   "cell_type": "markdown",
   "metadata": {},
   "source": [
    "### Pré-processamento para X e y\n",
    "Precisamos processar os valores dos dataframes X e y para inserção na estrutura de dados do XGBoost, DMatrix."
   ]
  },
  {
   "cell_type": "code",
   "execution_count": 3,
   "metadata": {},
   "outputs": [
    {
     "name": "stdout",
     "output_type": "stream",
     "text": [
      "(717, 6000)\n"
     ]
    }
   ],
   "source": [
    "from sklearn.feature_extraction.text import TfidfVectorizer\n",
    "corpus = list(textPT)\n",
    "X_tfidf = TfidfVectorizer(max_features = 6000) \n",
    "X_tfidf.fit(corpus)\n",
    "X_tfidf_features = X_tfidf.transform(corpus)\n",
    "print(X_tfidf_features.shape)"
   ]
  },
  {
   "cell_type": "code",
   "execution_count": 4,
   "metadata": {},
   "outputs": [
    {
     "name": "stdout",
     "output_type": "stream",
     "text": [
      "[15  6 15 11  0 13 10  2 14 18  8 11 14 15  4 18 15 15 10 10 10 12 11 11\n",
      " 15 15 11  6 14 15 11  0 16 11  1 18 15  8 13 10  6 15  6 15 16 10  8 12\n",
      " 11 15 15 13 16 15  3  5  3  6 11 15  0  2 15 15 11 15 16 14  5 15 14  2\n",
      " 18 14 11 14  3 12 16  6 16 15 13 12  2 15  6 13  0 13  0 12 18 14  9 16\n",
      " 14 14 15 11 15 15 13 15 13 15 14 13 18 11 14  7 15 18 16  6 10 16  0 11\n",
      "  6 16 10 17  0  8 15 15  6 11 10  8 16 11 10 15 10 14 16  0 15 15 14  3\n",
      " 11 14 11  0  3 15  7  7 14 12 18  2 13 13 18 18 10  0  0 15 14 16 18  5\n",
      " 14 11 16  8 11 15 15 16 18 11 14 11 16  3  6 10 15  0  0 14 10  6 15 15\n",
      " 10 15  0  0 14 13 14 15 15  2 16 13 15 10 12 16 11 11 13 11 14 15 15 10\n",
      "  4 14 14 14 15 14 13 14  0  1  0  9 10  2 10 16 13  3 11 15  6  0 15  3\n",
      " 13  0 10 11  0 15 15 11 15  3 15 15 15  3 18 15 16  6  1 16 16 14 15 14\n",
      " 13 14 18  6 15  3  3 14 13  0 16  0 15  5 13 15 15 16 14 18 15  0 13 14\n",
      " 15 13 15  0  0 11 14 15 13 15  0  0 15 15  8 15 15 11 14  6 15 14 14  0\n",
      " 16  2  6  2 17 13  7  2 15 16  3 14 13 16 15  2  0 13 15 16 15  0 15 11\n",
      "  6 18 14 18  7  3 10  6 10 15 11 14 16  0 16 15 11 10 15  6 13  2 13  8\n",
      " 16 16 14 16  3 15 14 15 11 10 14 16  4 16  6 13  0 15 11 13 14 15 15 18\n",
      " 15 16 15 14 13 14 11  6  3  3 16 13 12 18 14  6 14 18 13 15 13  2 14 14\n",
      " 15 16  7 11 14 10  1  3  6 15  0 14 15 14 12 11  2  0 15  3  5 10  5 11\n",
      " 11  2  0 14 15  9 15 18  0 14 15 15  6  6  6 16 17 14 15 15 13  3 14 15\n",
      " 14 11 13 13 10  3 15 14  7  0 15 14 13 14 14  0 16 15 14 11 14 15  5 15\n",
      "  0 15 16 14 15 15 14 14 15 18 14 15 14 15 18 14 14 14 15 14  0  6  4  8\n",
      "  0 13 15  0 11  6  6 16 15 15 11 16 18 14 15 13  6 10 15 15 15  5 13 15\n",
      "  2  2 11 10  8 16 14 11  6 15 15 15 14  0  3 14  2 11 10 16  3 12  5  5\n",
      " 16 10 17 15 13  7  2  0  2 10 16 10  5 12  0 11 12 13  7 15 16 15  2 15\n",
      "  6  6 11  0 11 17  3  0 13  0 14 14 13 13  0  1 10  6 15  0 11  7 15  3\n",
      " 16 13 15 11  2  3 15 10  0 16  6 13 14 18 16 11 18 15 11 11  6 14  6 10\n",
      " 10 18  9 16 11 16 16 15 11 14 13  0 16 14 12  6 15  0 14 14 15 16 13 13\n",
      " 10 15  0  1 15 14  3 15 16 15 15  3  8 14 16 14  0 10 15 12 18 11 13 14\n",
      " 15 13 11 11  6 13 15 18 14 18  3 15 15 11 15 18 15 18 14 15 15 13 15 15\n",
      " 14  0 11 15 16 16 14 14  3 10 11  2  8  3 15 14 13  7 15 15 14]\n",
      "(717,)\n"
     ]
    }
   ],
   "source": [
    "from sklearn.preprocessing import LabelEncoder\n",
    "from sklearn.svm import LinearSVC\n",
    "from sklearn.metrics import precision_recall_fscore_support\n",
    "# Converting the labels from strings to binary\n",
    "le = LabelEncoder()\n",
    "le.fit(labelPT)\n",
    "y_labelPT = le.transform(labelPT)\n",
    "print(y_labelPT)\n",
    "print(y_labelPT.shape)"
   ]
  },
  {
   "cell_type": "code",
   "execution_count": 5,
   "metadata": {},
   "outputs": [],
   "source": [
    "data_dmatrix = xgb.DMatrix(data=X_tfidf_features, label=y_labelPT)"
   ]
  },
  {
   "cell_type": "markdown",
   "metadata": {},
   "source": [
    "### Split em treino e teste"
   ]
  },
  {
   "cell_type": "code",
   "execution_count": 6,
   "metadata": {},
   "outputs": [
    {
     "name": "stdout",
     "output_type": "stream",
     "text": [
      "  (0, 5865)\t0.12310278357902607\n",
      "  (0, 5844)\t0.07214349812284936\n",
      "  (0, 5835)\t0.0868076648446096\n",
      "  (0, 5754)\t0.041587122710311904\n",
      "  (0, 5743)\t0.10162001575332077\n",
      "  (0, 5668)\t0.028382729835351277\n",
      "  (0, 5420)\t0.2645848762644777\n",
      "  (0, 5401)\t0.05307699402489731\n",
      "  (0, 5400)\t0.04830196249802336\n",
      "  (0, 5385)\t0.07645466551500592\n",
      "  (0, 5356)\t0.09638715650117681\n",
      "  (0, 5349)\t0.05393150042329729\n",
      "  (0, 5331)\t0.0282035262524768\n",
      "  (0, 5270)\t0.2223558217390038\n",
      "  (0, 5251)\t0.07931376976638826\n",
      "  (0, 5130)\t0.05583318328674835\n",
      "  (0, 5018)\t0.09662967176577104\n",
      "  (0, 4963)\t0.052275930237077724\n",
      "  (0, 4957)\t0.09193180845870408\n",
      "  (0, 4956)\t0.06077461776690305\n",
      "  (0, 4929)\t0.2379413092991648\n",
      "  (0, 4863)\t0.1494332956490792\n",
      "  (0, 4832)\t0.05635622926945937\n",
      "  (0, 4831)\t0.05128648248887804\n",
      "  (0, 4790)\t0.06575128557963889\n",
      "  :\t:\n",
      "  (572, 855)\t0.10020939169551783\n",
      "  (572, 754)\t0.09235404367340458\n",
      "  (572, 615)\t0.09712011448381817\n",
      "  (572, 575)\t0.13776221649461948\n",
      "  (572, 537)\t0.08245792432452834\n",
      "  (572, 517)\t0.07229381086033336\n",
      "  (572, 515)\t0.15853010198422748\n",
      "  (572, 481)\t0.13506393854104018\n",
      "  (572, 433)\t0.11373317426261102\n",
      "  (572, 382)\t0.09661366306674751\n",
      "  (572, 292)\t0.06554073117806167\n",
      "  (572, 288)\t0.11373317426261102\n",
      "  (572, 261)\t0.05965699189181787\n",
      "  (572, 231)\t0.05758637342082007\n",
      "  (572, 215)\t0.04401163842917111\n",
      "  (572, 203)\t0.060201905086114366\n",
      "  (572, 188)\t0.07100227902156034\n",
      "  (572, 175)\t0.06822017135665062\n",
      "  (572, 111)\t0.06132779865219117\n",
      "  (572, 109)\t0.11059333444032186\n",
      "  (572, 34)\t0.09956100379906122\n",
      "  (572, 9)\t0.12467999579623618\n",
      "  (572, 6)\t0.07509039969834287\n",
      "  (572, 1)\t0.07365395104063086\n",
      "  (572, 0)\t0.06438021109007944\n",
      "  (0, 5957)\t0.0066308016290965895\n",
      "  (0, 5951)\t0.016085669732165995\n",
      "  (0, 5939)\t0.007716348130756908\n",
      "  (0, 5897)\t0.08324125375626923\n",
      "  (0, 5891)\t0.01060831151756678\n",
      "  (0, 5835)\t0.07269341132737506\n",
      "  (0, 5831)\t0.01895581981127098\n",
      "  (0, 5768)\t0.009056995296660885\n",
      "  (0, 5713)\t0.10203024654662098\n",
      "  (0, 5705)\t0.009056995296660885\n",
      "  (0, 5679)\t0.1638909589785536\n",
      "  (0, 5619)\t0.17315108037599486\n",
      "  (0, 5611)\t0.008042834866082997\n",
      "  (0, 5585)\t0.00733247661993917\n",
      "  (0, 5510)\t0.16131448563866174\n",
      "  (0, 5451)\t0.0075768974979046975\n",
      "  (0, 5440)\t0.00327583489762761\n",
      "  (0, 5435)\t0.11051469829213909\n",
      "  (0, 5396)\t0.13036787834807453\n",
      "  (0, 5363)\t0.05686745943381294\n",
      "  (0, 5356)\t0.08071535188463497\n",
      "  (0, 5338)\t0.13600626550649816\n",
      "  (0, 5327)\t0.19235204331244554\n",
      "  (0, 5245)\t0.00887582301147647\n",
      "  (0, 5220)\t0.011164426315516717\n",
      "  :\t:\n",
      "  (143, 1403)\t0.13335585936325944\n",
      "  (143, 1286)\t0.07575292398768245\n",
      "  (143, 1273)\t0.12672387792716236\n",
      "  (143, 1248)\t0.07878617508618571\n",
      "  (143, 1188)\t0.13335585936325944\n",
      "  (143, 1177)\t0.10934705441567469\n",
      "  (143, 1164)\t0.2120160166924714\n",
      "  (143, 1081)\t0.05494750494810475\n",
      "  (143, 974)\t0.11737662508293388\n",
      "  (143, 970)\t0.13335585936325944\n",
      "  (143, 827)\t0.07807679105228824\n",
      "  (143, 732)\t0.07017083012918868\n",
      "  (143, 623)\t0.056401194375342294\n",
      "  (143, 594)\t0.07482448326433208\n",
      "  (143, 505)\t0.05884524898400654\n",
      "  (143, 461)\t0.06192356981739966\n",
      "  (143, 420)\t0.04793447083549635\n",
      "  (143, 398)\t0.10802937223870543\n",
      "  (143, 382)\t0.028989384831494446\n",
      "  (143, 381)\t0.0537010845343825\n",
      "  (143, 375)\t0.0534596879616317\n",
      "  (143, 359)\t0.051949369107043716\n",
      "  (143, 215)\t0.03961769845967966\n",
      "  (143, 198)\t0.08962124491688721\n",
      "  (143, 86)\t0.042866014703680996\n",
      "[ 9  7  3  0  0  0 16 14 13 15  0  6 11 18  6  0 15 14  6 15  4 15 15  6\n",
      " 18 11 16 15 10  6 13 14 15 13 14 16  0 13 10 14 17  2 14 15 15 15 15  0\n",
      " 15 15 15 13 15  2 16 18 15 13 11 15 14  2 18  0 10 15 14  6 13  5 15 14\n",
      " 10 16 10 13 15 15 15 11  8  0 15  1 11 15 14  0  0 18  6  6 13 14  8 15\n",
      " 15  0 15 16 15 14 15 15 14  5  6  5 15  0 12 10 18  8  3 15 10 15 11 14\n",
      " 15 18 14  2 15 14  6 17 16 13 11 15  7 15 10 14  3 16 15 15 13 14 14 14\n",
      "  5 14 10  3 15 15 15 14 16 11  6 13 15 11  8 15 11  2 13 16 16 10  6 11\n",
      "  0 11 14 15 14 16 15  8 16 10  6 15 14 16 11 10 16  0 14  5 14 15 16 16\n",
      " 15 15 14 11  0 14 10 15 16  6  2 18 13  6 14  4 15  6  3 13 14 14 15  5\n",
      " 13 12 11 13 11  3 11 14 14  3 14  6 15 10  6 14 14 18 12 18  1 15 16 15\n",
      "  1  9 18 13 12 13  0 11 10 14 15 16  0  0  6 13 10 17 13  3 14 18 14 15\n",
      " 15  8  2  6  3 15 16 16  2 15 13 14 14  0 14 14 13 11 10 10 10 11 14 15\n",
      " 14 15 15 16 11  6  2 10 15 15  6  0  6 18  2 16 12 10  0 15 15 15 13 15\n",
      " 15 15 16 11 15  3  3 11 15 14 14  2 11 16 15  0 16 14  3 15  2 15  7 15\n",
      "  3 15 14 15 13 16 16  7  7 11 15  9 14 11  0  2 18 18 14 18 14 14 10 16\n",
      " 15 14 13  2 13  5 15 13 13 14 14 12 15  1 14 13  6  3 10 10 10 15  1  6\n",
      " 13 11 13  8 15 15 16  3 15  0  0 15 16 16 11  4  3 15  0 14 16 14 14 15\n",
      " 13 18  7 16  8 11 13  7 10  0 16 13 10  3 14  6 15  0  0 13  6  5 18 14\n",
      " 14 10  3 16 10 11 15 15 12 14 12 15 11 16  2 15  0 14 15  2  3 14 15  0\n",
      " 14 16  0 14 16 14  2 15  0 13  2 10  8  6 11 16 15 15 15 14 18 15 15 15\n",
      " 14 14  4 13 14 15 13 16 11 15 18 11 15  0 14 16 10  3 15 13 15  0 11 11\n",
      "  0 15  2  0 15 11  8  0 15 11 18 16 15  3 15 18 11 14 15 11 16  0  6  3\n",
      " 13 15 11 16 15 13 16 14 11 15 18  0  0 11  7 10  7 15 15  5 11  0 15  3\n",
      " 18 16  7  0  2 14 12 12 18 14 15 13 17 14  0 15 15  3 15 15  6]\n",
      "[14 14 14  0  6  3  6 14  0 16 10 15  0  0 16 15 10  6 15  8 15 13 14  0\n",
      " 15 11 15 12 18 11 15 11  0 10 11  3 15 16 15 12 15 13 11  6 13  6 16 15\n",
      "  3 15 15 14  2  2 14 14 11 13 10 14 16 11  6  6 13  9 15 14 12  6  3 13\n",
      " 16 11 12 11 13 13 15 18 10 18  6  3  6 15 14 11 11 14  2 15 16 16 18  5\n",
      "  5 14 15 10 13 11 13 14 18  1  0 11 11 17 16 13  0 10 13 14 13 11  3  7\n",
      " 16 18 18  0 10  8 15 16 14 11 15 15 15 11  0 11 11  0 15 15 15  3 14 16]\n"
     ]
    }
   ],
   "source": [
    "from sklearn.model_selection import train_test_split\n",
    "\n",
    "X_train, X_test, y_train, y_test = train_test_split(X_tfidf_features, y_labelPT, test_size=0.2, random_state=123)\n",
    "print(X_train)\n",
    "print(X_test)\n",
    "print(y_train)\n",
    "print(y_test)\n",
    "\n"
   ]
  },
  {
   "cell_type": "markdown",
   "metadata": {},
   "source": [
    "### Instanciação de objeto XGBClassifier\n",
    "Instanciação e fit do objeto com X e y de treino.\n",
    "\n",
    "Refs: \n",
    "- https://xgboost.readthedocs.io/en/latest/python/python_api.html#xgboost.XGBClassifier\n",
    "- https://info.cambridgespark.com/latest/getting-started-with-xgboost"
   ]
  },
  {
   "cell_type": "code",
   "execution_count": 7,
   "metadata": {},
   "outputs": [],
   "source": [
    "xg_cls = xgb.XGBClassifier(base_score=0.5, colsample_bylevel=1, objective='multi:softprob', colsample_bytree = 1, gamma=0, learning_rate = 0.1, max_delta_step=0,\n",
    "                max_depth = 3, min_child_weight=1, missing=None, alpha = 10, n_estimators = 100, nthread=-1, reg_alpha=0, reg_lambda=1, scale_pos_weight=1, seed=42, subsample=1)"
   ]
  },
  {
   "cell_type": "code",
   "execution_count": 8,
   "metadata": {},
   "outputs": [
    {
     "name": "stdout",
     "output_type": "stream",
     "text": [
      "[18:24:53] WARNING: /workspace/src/learner.cc:480: \n",
      "Parameters: { scale_pos_weight } might not be used.\n",
      "\n",
      "  This may not be accurate due to some parameters are only used in language bindings but\n",
      "  passed down to XGBoost core.  Or some parameters are not used but slip through this\n",
      "  verification. Please open an issue if you find above cases.\n",
      "\n",
      "\n"
     ]
    },
    {
     "data": {
      "text/plain": [
       "XGBClassifier(alpha=10, base_score=0.5, booster='gbtree', colsample_bylevel=1,\n",
       "              colsample_bynode=1, colsample_bytree=1, gamma=0, gpu_id=-1,\n",
       "              importance_type='gain', interaction_constraints='',\n",
       "              learning_rate=0.1, max_delta_step=0, max_depth=3,\n",
       "              min_child_weight=1, missing=None, monotone_constraints='()',\n",
       "              n_estimators=100, n_jobs=-1, nthread=-1, num_parallel_tree=1,\n",
       "              objective='multi:softprob', random_state=42, reg_alpha=0,\n",
       "              reg_lambda=1, scale_pos_weight=1, seed=42, subsample=1,\n",
       "              tree_method='exact', validate_parameters=1, verbosity=None)"
      ]
     },
     "execution_count": 8,
     "metadata": {},
     "output_type": "execute_result"
    }
   ],
   "source": [
    "xg_cls.fit(X_train, y_train)"
   ]
  },
  {
   "cell_type": "markdown",
   "metadata": {},
   "source": [
    "### Predições e métrica F1-score"
   ]
  },
  {
   "cell_type": "code",
   "execution_count": 12,
   "metadata": {},
   "outputs": [],
   "source": [
    "preds = xg_cls.predict(X_test)"
   ]
  },
  {
   "cell_type": "code",
   "execution_count": 13,
   "metadata": {},
   "outputs": [
    {
     "name": "stdout",
     "output_type": "stream",
     "text": [
      "[14 14 14  0  6 16  6 14  0 15 10 15  0  0 16 15 10  6 15  8 15 13 14  0\n",
      " 15 11 15 12 18 15 15 11  0 10 11  3 15 16 15 12 15 13 11  6 13  6 16 15\n",
      "  3 15 15 14  2  2 14 14 13 13 10 14 16 11  6  6 13  9 15 14 16  6  3 10\n",
      " 16 11 12 11 13 13 15 18 10 18  6  3  6 15 14 11 11 14  2 15 16 11 18  5\n",
      "  5 14 15 10 13 11 13 14 18  1  0 13 11 13 16 13  0 10 13 14 13 11  3  7\n",
      " 15 18 18  0 10  8 15 16 14 11 15 15 15 11  0 11 11  0 15 15 15  3 14 16]\n"
     ]
    }
   ],
   "source": [
    "print(preds)"
   ]
  },
  {
   "cell_type": "code",
   "execution_count": 14,
   "metadata": {},
   "outputs": [
    {
     "name": "stdout",
     "output_type": "stream",
     "text": [
      "F1-score - Average Micro\n",
      "0.9305555555555556\n",
      "F1-score - Average Weighted\n",
      "0.9265797062136476\n"
     ]
    }
   ],
   "source": [
    "from sklearn.metrics import f1_score\n",
    "\n",
    "print('F1-score - Average Micro')\n",
    "print(f1_score(y_test, preds, average='micro'))\n",
    "print('F1-score - Average Weighted')\n",
    "print(f1_score(y_test, preds, average='weighted'))"
   ]
  },
  {
   "cell_type": "code",
   "execution_count": null,
   "metadata": {},
   "outputs": [],
   "source": [
    "resultsPT = pd.DataFrame(index = ['TF-IDF - XGBoost'], \n",
    "          columns = ['Precision', 'Recall', 'F1 score', 'support']\n",
    "          )\n",
    "resultsPT.loc['TF-IDF'] = precision_recall_fscore_support(\n",
    "          labelPT[train_cutoff + 1 : len(text)], \n",
    "          tfidf_predictionPT, \n",
    "          average = 'weighted'\n",
    "          )"
   ]
  },
  {
   "cell_type": "markdown",
   "metadata": {},
   "source": [
    "### Tabelas de resultados"
   ]
  },
  {
   "cell_type": "markdown",
   "metadata": {},
   "source": [
    "- Para fins de comparação, resultados dados Pedro TFIDF + SVM (Em português)"
   ]
  },
  {
   "cell_type": "code",
   "execution_count": 20,
   "metadata": {},
   "outputs": [
    {
     "data": {
      "text/html": [
       "<div>\n",
       "<style scoped>\n",
       "    .dataframe tbody tr th:only-of-type {\n",
       "        vertical-align: middle;\n",
       "    }\n",
       "\n",
       "    .dataframe tbody tr th {\n",
       "        vertical-align: top;\n",
       "    }\n",
       "\n",
       "    .dataframe thead th {\n",
       "        text-align: right;\n",
       "    }\n",
       "</style>\n",
       "<table border=\"1\" class=\"dataframe\">\n",
       "  <thead>\n",
       "    <tr style=\"text-align: right;\">\n",
       "      <th></th>\n",
       "      <th>Precision</th>\n",
       "      <th>Recall</th>\n",
       "      <th>F1 score</th>\n",
       "      <th>support</th>\n",
       "    </tr>\n",
       "  </thead>\n",
       "  <tbody>\n",
       "    <tr>\n",
       "      <th>Word Embedding</th>\n",
       "      <td>0.835766</td>\n",
       "      <td>0.833333</td>\n",
       "      <td>0.828399</td>\n",
       "      <td>None</td>\n",
       "    </tr>\n",
       "    <tr>\n",
       "      <th>TF-IDF</th>\n",
       "      <td>0.904991</td>\n",
       "      <td>0.897059</td>\n",
       "      <td>0.894488</td>\n",
       "      <td>None</td>\n",
       "    </tr>\n",
       "  </tbody>\n",
       "</table>\n",
       "</div>"
      ],
      "text/plain": [
       "               Precision    Recall  F1 score support\n",
       "Word Embedding  0.835766  0.833333  0.828399    None\n",
       "TF-IDF          0.904991  0.897059  0.894488    None"
      ]
     },
     "execution_count": 20,
     "metadata": {},
     "output_type": "execute_result"
    }
   ],
   "source": [
    "resultsPT.head()"
   ]
  }
 ],
 "metadata": {
  "kernelspec": {
   "display_name": "Python 3",
   "language": "python",
   "name": "python3"
  },
  "language_info": {
   "codemirror_mode": {
    "name": "ipython",
    "version": 3
   },
   "file_extension": ".py",
   "mimetype": "text/x-python",
   "name": "python",
   "nbconvert_exporter": "python",
   "pygments_lexer": "ipython3",
   "version": "3.6.9"
  }
 },
 "nbformat": 4,
 "nbformat_minor": 4
}
