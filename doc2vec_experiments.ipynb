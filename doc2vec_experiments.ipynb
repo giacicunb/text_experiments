{
 "cells": [
  {
   "cell_type": "markdown",
   "metadata": {},
   "source": [
    "# Experimentos Doc2Vec"
   ]
  },
  {
   "cell_type": "markdown",
   "metadata": {},
   "source": [
    "## Referências primárias:\n",
    "- https://radimrehurek.com/gensim/auto_examples/tutorials/run_doc2vec_lee.html#sphx-glr-auto-examples-tutorials-run-doc2vec-lee-py\n",
    "- https://towardsdatascience.com/multi-class-text-classification-with-doc2vec-logistic-regression-9da9947b43f4\n",
    "- http://linanqiu.github.io/2015/10/07/word2vec-sentiment/"
   ]
  },
  {
   "cell_type": "code",
   "execution_count": 1,
   "metadata": {},
   "outputs": [],
   "source": [
    "import pandas as pd\n",
    "import numpy as np\n",
    "from tqdm import tqdm\n",
    "tqdm.pandas(desc=\"progress-bar\")\n",
    "from gensim.models import Doc2Vec\n",
    "from sklearn import utils\n",
    "from sklearn.model_selection import train_test_split\n",
    "import gensim\n",
    "from sklearn.linear_model import LogisticRegression\n",
    "from gensim.models.doc2vec import TaggedDocument\n",
    "import re\n",
    "import seaborn as sns\n",
    "import matplotlib.pyplot as plt"
   ]
  },
  {
   "cell_type": "code",
   "execution_count": 2,
   "metadata": {},
   "outputs": [
    {
     "data": {
      "text/html": [
       "<div>\n",
       "<style scoped>\n",
       "    .dataframe tbody tr th:only-of-type {\n",
       "        vertical-align: middle;\n",
       "    }\n",
       "\n",
       "    .dataframe tbody tr th {\n",
       "        vertical-align: top;\n",
       "    }\n",
       "\n",
       "    .dataframe thead th {\n",
       "        text-align: right;\n",
       "    }\n",
       "</style>\n",
       "<table border=\"1\" class=\"dataframe\">\n",
       "  <thead>\n",
       "    <tr style=\"text-align: right;\">\n",
       "      <th></th>\n",
       "      <th>label</th>\n",
       "      <th>text</th>\n",
       "      <th>is_valid</th>\n",
       "    </tr>\n",
       "  </thead>\n",
       "  <tbody>\n",
       "    <tr>\n",
       "      <th>0</th>\n",
       "      <td>SECRETARIA DE ESTADO DE FAZENDA, PLANEJAMENTO,...</td>\n",
       "      <td>Contratante: BANCO DE BRASÍLIA S.A. - BRB - Pr...</td>\n",
       "      <td>False</td>\n",
       "    </tr>\n",
       "    <tr>\n",
       "      <th>1</th>\n",
       "      <td>SECRETARIA DE ESTADO DE SEGURANÇA PÚBLICA</td>\n",
       "      <td>Na Portaria nº 174, de 13 de setembro de 2018,...</td>\n",
       "      <td>False</td>\n",
       "    </tr>\n",
       "    <tr>\n",
       "      <th>2</th>\n",
       "      <td>SECRETARIA DE ESTADO DE SEGURANÇA PÚBLICA</td>\n",
       "      <td>PROCESSO: 052.002.326/2016. OBJETO: Contrataçã...</td>\n",
       "      <td>False</td>\n",
       "    </tr>\n",
       "    <tr>\n",
       "      <th>3</th>\n",
       "      <td>SECRETARIA DE ESTADO DE SEGURANÇA PÚBLICA</td>\n",
       "      <td>O PRESIDENTE DA COMISSÃO PERMANENTE DE CONCURS...</td>\n",
       "      <td>False</td>\n",
       "    </tr>\n",
       "    <tr>\n",
       "      <th>4</th>\n",
       "      <td>SECRETARIA DE ESTADO DE SEGURANÇA PÚBLICA</td>\n",
       "      <td>O DIRETOR-GERAL DO DEPARTAMENTO DE TRÂNSITO DO...</td>\n",
       "      <td>False</td>\n",
       "    </tr>\n",
       "    <tr>\n",
       "      <th>5</th>\n",
       "      <td>SECRETARIA DE ESTADO DE TRANSPORTE E MOBILIDADE</td>\n",
       "      <td>O DIRETOR-GERAL DO DEPARTAMENTO DE ESTRADAS DE...</td>\n",
       "      <td>False</td>\n",
       "    </tr>\n",
       "    <tr>\n",
       "      <th>6</th>\n",
       "      <td>CASA CIVIL</td>\n",
       "      <td>O CHEFE DA UNIDADE DE RECEITA DA AGÊNCIA DE FI...</td>\n",
       "      <td>False</td>\n",
       "    </tr>\n",
       "    <tr>\n",
       "      <th>7</th>\n",
       "      <td>SECRETARIA DE ESTADO DE SEGURANÇA PÚBLICA</td>\n",
       "      <td>O DIRETOR-GERAL DO DEPARTAMENTO DE TRÂNSITO DO...</td>\n",
       "      <td>False</td>\n",
       "    </tr>\n",
       "    <tr>\n",
       "      <th>8</th>\n",
       "      <td>SECRETARIA DE ESTADO DE SEGURANÇA PÚBLICA</td>\n",
       "      <td>A COMANDANTE-GERAL DA POLÍCIA MILITAR DO DISTR...</td>\n",
       "      <td>False</td>\n",
       "    </tr>\n",
       "    <tr>\n",
       "      <th>9</th>\n",
       "      <td>SECRETARIA DE ESTADO DE SEGURANÇA PÚBLICA</td>\n",
       "      <td>Processo: 00054-00017983/2018-61. O Departamen...</td>\n",
       "      <td>False</td>\n",
       "    </tr>\n",
       "  </tbody>\n",
       "</table>\n",
       "</div>"
      ],
      "text/plain": [
       "                                               label  \\\n",
       "0  SECRETARIA DE ESTADO DE FAZENDA, PLANEJAMENTO,...   \n",
       "1          SECRETARIA DE ESTADO DE SEGURANÇA PÚBLICA   \n",
       "2          SECRETARIA DE ESTADO DE SEGURANÇA PÚBLICA   \n",
       "3          SECRETARIA DE ESTADO DE SEGURANÇA PÚBLICA   \n",
       "4          SECRETARIA DE ESTADO DE SEGURANÇA PÚBLICA   \n",
       "5    SECRETARIA DE ESTADO DE TRANSPORTE E MOBILIDADE   \n",
       "6                                         CASA CIVIL   \n",
       "7          SECRETARIA DE ESTADO DE SEGURANÇA PÚBLICA   \n",
       "8          SECRETARIA DE ESTADO DE SEGURANÇA PÚBLICA   \n",
       "9          SECRETARIA DE ESTADO DE SEGURANÇA PÚBLICA   \n",
       "\n",
       "                                                text  is_valid  \n",
       "0  Contratante: BANCO DE BRASÍLIA S.A. - BRB - Pr...     False  \n",
       "1  Na Portaria nº 174, de 13 de setembro de 2018,...     False  \n",
       "2  PROCESSO: 052.002.326/2016. OBJETO: Contrataçã...     False  \n",
       "3  O PRESIDENTE DA COMISSÃO PERMANENTE DE CONCURS...     False  \n",
       "4  O DIRETOR-GERAL DO DEPARTAMENTO DE TRÂNSITO DO...     False  \n",
       "5  O DIRETOR-GERAL DO DEPARTAMENTO DE ESTRADAS DE...     False  \n",
       "6  O CHEFE DA UNIDADE DE RECEITA DA AGÊNCIA DE FI...     False  \n",
       "7  O DIRETOR-GERAL DO DEPARTAMENTO DE TRÂNSITO DO...     False  \n",
       "8  A COMANDANTE-GERAL DA POLÍCIA MILITAR DO DISTR...     False  \n",
       "9  Processo: 00054-00017983/2018-61. O Departamen...     False  "
      ]
     },
     "execution_count": 2,
     "metadata": {},
     "output_type": "execute_result"
    }
   ],
   "source": [
    "path_to_text_train = '/home/mstauffer/Documentos/UnB/9º Semestre/KnEDle/sprints/5_27_maio-03_junho/luz_de_araujo_etal_propor2020/data/clean/train.csv'\n",
    "dt_train = pd.read_csv(path_to_text_train, encoding='utf-8')#[['v1', 'v2']]\n",
    "path_to_text_val = '/home/mstauffer/Documentos/UnB/9º Semestre/KnEDle/sprints/5_27_maio-03_junho/luz_de_araujo_etal_propor2020/data/clean/train_val.csv'\n",
    "dt_val = pd.read_csv(path_to_text_val, encoding='utf-8')#[['v1', 'v2']]\n",
    "\n",
    "dt_val.head(10)"
   ]
  },
  {
   "cell_type": "code",
   "execution_count": 3,
   "metadata": {},
   "outputs": [
    {
     "data": {
      "text/plain": [
       "(717, 3)"
      ]
     },
     "execution_count": 3,
     "metadata": {},
     "output_type": "execute_result"
    }
   ],
   "source": [
    "dt_train.shape"
   ]
  },
  {
   "cell_type": "code",
   "execution_count": 4,
   "metadata": {},
   "outputs": [
    {
     "data": {
      "text/plain": [
       "269936"
      ]
     },
     "execution_count": 4,
     "metadata": {},
     "output_type": "execute_result"
    }
   ],
   "source": [
    "dt_train.index = range(717)\n",
    "dt_train['text'].apply(lambda x: len(x.split(' '))).sum()"
   ]
  },
  {
   "cell_type": "code",
   "execution_count": 5,
   "metadata": {},
   "outputs": [
    {
     "data": {
      "image/png": "[encoded data removed]",
      "text/plain": [
       "<Figure size 864x288 with 1 Axes>"
      ]
     },
     "metadata": {
      "needs_background": "light"
     },
     "output_type": "display_data"
    }
   ],
   "source": [
    "cnt_pro = dt_train['label'].value_counts()\n",
    "plt.figure(figsize=(12,4))\n",
    "sns.barplot(cnt_pro.index, cnt_pro.values, alpha=0.8)\n",
    "plt.ylabel('Number of Occurrences', fontsize=12)\n",
    "plt.xlabel('Label', fontsize=12)\n",
    "plt.xticks(rotation=90)\n",
    "plt.show();"
   ]
  },
  {
   "cell_type": "code",
   "execution_count": 5,
   "metadata": {},
   "outputs": [
    {
     "name": "stdout",
     "output_type": "stream",
     "text": [
      "O SECRETÁRIO DE ESTADO DE SAÚDE DO DISTRITO FEDERAL, no uso da atribuição que lhe\n",
      "confere o Decreto nº 34.239, de 26 de março de 2013, publicado no DODF nº 63, de 27 de março de 2013\n",
      "(fl. 2), Considerando o Contrato de Gestão nº 1/2014, firmado entre o Distrito Federal e o Instituto do\n",
      "Câncer Infantil e Pediatria Especializada (ICIPE); Considerando o Parecer nº 355/2012 da\n",
      "PROPES/PGDF, e Considerando o Decreto nº 34.155, de 21 de fevereiro de 2013, publicado no DODF\n",
      "nº 39, de 22 de fevereiro de 2013 (pag. 13, item 9.30), o qual inclui o Hospital da Criança de Brasília\n",
      "(HCB), José de Alencar, na estrutura da Secretária de Estado de Saúde do Distrito Federal, resolve:\n",
      "Art. 1º Autorizar a cessão da servidora JOSEETE MENDONÇA MESQUITA DOS ANJOS, matrícula nº\n",
      "159.241-6, ao HCB.\n",
      "Art. 2º Para efeitos de controle de frequência, os servidores em questão serão cadastrados com status\n",
      "\"cedido\" no Sistema ForPonto.\n",
      "Art. 3º O HCB encaminhará mensalmente à Comissão de Acompanhamento do Contrato de Gestão do\n",
      "Hospital da Criança de Brasília (CACG-HCB) as folhas de ponto dos servidores, devidamente atestadas,\n",
      "a contar de 7 de julho de 2018.\n",
      "Art. 4º Esta Portaria entra em vigor na data de sua publicação.\n",
      "OSNEI OKUMOTO\n",
      "Label: SECRETARIA DE ESTADO DE SAÚDE\n"
     ]
    }
   ],
   "source": [
    "def print_do_text(index):\n",
    "    example = dt_train[dt_train.index == index][['text', 'label']].values[0]\n",
    "    if len(example) > 0:\n",
    "        print(example[0])\n",
    "        print('Label:', example[1])\n",
    "print_do_text(12)"
   ]
  },
  {
   "cell_type": "markdown",
   "metadata": {},
   "source": [
    "Ref célula abaixo:\n",
    "- https://radimrehurek.com/gensim/utils.html#gensim.utils.simple_preprocess"
   ]
  },
  {
   "cell_type": "code",
   "execution_count": 6,
   "metadata": {},
   "outputs": [],
   "source": [
    "######### É AQUI ###########\n",
    "def cleanText(text):\n",
    "    tokens = gensim.utils.simple_preprocess(text)\n",
    "    return tokens\n",
    "dt_train['text'] = dt_train['text'].apply(cleanText)\n",
    "dt_val['text'] = dt_val['text'].apply(cleanText)"
   ]
  },
  {
   "cell_type": "code",
   "execution_count": 7,
   "metadata": {},
   "outputs": [],
   "source": [
    "def reading_df(df):\n",
    "    for i in range(len(df['text'])):\n",
    "        return df['text'][i]"
   ]
  },
  {
   "cell_type": "code",
   "execution_count": 8,
   "metadata": {},
   "outputs": [],
   "source": [
    "train_tagged = dt_train.apply(\n",
    "    lambda r: TaggedDocument(words=reading_df(dt_train), tags=[r.label]), axis=1)\n",
    "test_tagged = dt_val.apply(\n",
    "    lambda r: TaggedDocument(words=reading_df(dt_val), tags=[r.label]), axis=1)"
   ]
  },
  {
   "cell_type": "code",
   "execution_count": 9,
   "metadata": {},
   "outputs": [
    {
     "name": "stdout",
     "output_type": "stream",
     "text": [
      "[TaggedDocument(words=['diretor', 'geral', 'do', 'departamento', 'de', 'trânsito', 'do', 'distrito', 'federal', 'no', 'uso', 'da', 'atribuição', 'prevista', 'no', 'art', 'do', 'decreto', 'nº', 'de', 'de', 'abril', 'de', 'que', 'regulamenta', 'os', 'arts', 'da', 'lei', 'complementar', 'nº', 'de', 'de', 'dezembro', 'de', 'conforme', 'processo', 'sei', 'nº', 'resolve', 'designar', 'juliana', 'maria', 'carpi', 'agente', 'de', 'trânsito', 'matrícula', 'para', 'substituir', 'natt', 'douglas', 'correa', 'agente', 'de', 'trânsito', 'matrícula', 'corregedor', 'símbolo', 'cne', 'da', 'corregedoria', 'do', 'detran', 'df', 'nos', 'períodos', 'de', 'por', 'motivo', 'de', 'férias', 'do', 'titular', 'fabrício', 'lima', 'de', 'andrade', 'moura'], tags=['SECRETARIA DE ESTADO DE SEGURANÇA PÚBLICA']), TaggedDocument(words=['diretor', 'geral', 'do', 'departamento', 'de', 'trânsito', 'do', 'distrito', 'federal', 'no', 'uso', 'da', 'atribuição', 'prevista', 'no', 'art', 'do', 'decreto', 'nº', 'de', 'de', 'abril', 'de', 'que', 'regulamenta', 'os', 'arts', 'da', 'lei', 'complementar', 'nº', 'de', 'de', 'dezembro', 'de', 'conforme', 'processo', 'sei', 'nº', 'resolve', 'designar', 'juliana', 'maria', 'carpi', 'agente', 'de', 'trânsito', 'matrícula', 'para', 'substituir', 'natt', 'douglas', 'correa', 'agente', 'de', 'trânsito', 'matrícula', 'corregedor', 'símbolo', 'cne', 'da', 'corregedoria', 'do', 'detran', 'df', 'nos', 'períodos', 'de', 'por', 'motivo', 'de', 'férias', 'do', 'titular', 'fabrício', 'lima', 'de', 'andrade', 'moura'], tags=['SECRETARIA DE ESTADO DE CULTURA'])]\n"
     ]
    }
   ],
   "source": [
    "train_tagged.values[1]\n",
    "train_corpus = list(train_tagged)\n",
    "print(train_corpus[:2])"
   ]
  },
  {
   "cell_type": "code",
   "execution_count": 10,
   "metadata": {},
   "outputs": [
    {
     "name": "stdout",
     "output_type": "stream",
     "text": [
      "[TaggedDocument(words=['contratante', 'banco', 'de', 'brasília', 'brb', 'promitente', 'contratada', 'digisec', 'certificação', 'digital', 'eireli', 'me', 'objeto', 'aquisição', 'de', 'chaves', 'criptográficas', 'certificados', 'digitais', 'para', 'pessoa', 'fisica', 'jurídica', 'para', 'servidor', 'de', 'rede', 'na', 'hierarquia', 'da', 'icp', 'brasil', 'com', 'garantia', 'conforme', 'especificações', 'técnicas', 'mínimas', 'do', 'edital', 'seus', 'anexos', 'bem', 'como', 'da', 'proposta', 'da', 'contratada', 'modalidade', 'da', 'contratação', 'pregão', 'eletrônico', 'brb', 'nº', 'vigência', 'de', 'itens', 'registrados', 'valor', 'signatários', 'pelo', 'brb', 'kátia', 'do', 'carmo', 'peixoto', 'de', 'queiroz', 'pela', 'contratada', 'eduardo', 'pereira', 'dos', 'santos', 'executor', 'kleber', 'ponce', 'leones', 'processo', 'nº', 'jean', 'felippe', 'mazépas', 'gerente', 'de', 'área'], tags=['SECRETARIA DE ESTADO DE FAZENDA, PLANEJAMENTO, ORÇAMENTO E GESTÃO']), TaggedDocument(words=['contratante', 'banco', 'de', 'brasília', 'brb', 'promitente', 'contratada', 'digisec', 'certificação', 'digital', 'eireli', 'me', 'objeto', 'aquisição', 'de', 'chaves', 'criptográficas', 'certificados', 'digitais', 'para', 'pessoa', 'fisica', 'jurídica', 'para', 'servidor', 'de', 'rede', 'na', 'hierarquia', 'da', 'icp', 'brasil', 'com', 'garantia', 'conforme', 'especificações', 'técnicas', 'mínimas', 'do', 'edital', 'seus', 'anexos', 'bem', 'como', 'da', 'proposta', 'da', 'contratada', 'modalidade', 'da', 'contratação', 'pregão', 'eletrônico', 'brb', 'nº', 'vigência', 'de', 'itens', 'registrados', 'valor', 'signatários', 'pelo', 'brb', 'kátia', 'do', 'carmo', 'peixoto', 'de', 'queiroz', 'pela', 'contratada', 'eduardo', 'pereira', 'dos', 'santos', 'executor', 'kleber', 'ponce', 'leones', 'processo', 'nº', 'jean', 'felippe', 'mazépas', 'gerente', 'de', 'área'], tags=['SECRETARIA DE ESTADO DE SEGURANÇA PÚBLICA'])]\n"
     ]
    }
   ],
   "source": [
    "test_tagged.values[1]\n",
    "test_corpus = list(test_tagged)\n",
    "print(test_corpus[:2])"
   ]
  },
  {
   "cell_type": "code",
   "execution_count": 13,
   "metadata": {},
   "outputs": [],
   "source": [
    "model = gensim.models.doc2vec.Doc2Vec(vector_size=50, min_count=2, epochs=40)\n",
    "model.build_vocab(train_corpus)\n",
    "model.train(train_corpus, total_examples=model.corpus_count, epochs=model.epochs)"
   ]
  },
  {
   "cell_type": "code",
   "execution_count": 14,
   "metadata": {},
   "outputs": [],
   "source": [
    "model_test = gensim.models.doc2vec.Doc2Vec(vector_size=50, min_count=2, epochs=40)\n",
    "model_test.build_vocab(test_corpus)\n",
    "model_test.train(test_corpus, total_examples=model_test.corpus_count, epochs=model.epochs)"
   ]
  },
  {
   "cell_type": "code",
   "execution_count": 15,
   "metadata": {},
   "outputs": [
    {
     "name": "stdout",
     "output_type": "stream",
     "text": [
      "[-0.00467879 -0.00805296 -0.00017565  0.00962239  0.00614028 -0.00245098\n",
      " -0.0098388  -0.00480496  0.00724424 -0.00063515  0.00012743  0.0075782\n",
      " -0.00710821 -0.00276915  0.00424255 -0.00160972 -0.00631915 -0.00989535\n",
      "  0.00200098  0.00157338 -0.00345848  0.00889231 -0.00203    -0.00865846\n",
      " -0.0078123   0.00462034 -0.00682369  0.00876927 -0.00885721 -0.00450971\n",
      " -0.00939423 -0.00939894 -0.00795661  0.00667999 -0.00029351  0.00030075\n",
      " -0.0081424  -0.00750042 -0.00882855  0.00834761 -0.00583171  0.00854066\n",
      " -0.00115715 -0.00399611 -0.00738681 -0.00866102 -0.00730485  0.00026275\n",
      "  0.00737067 -0.00369325]\n"
     ]
    }
   ],
   "source": [
    "vector = model.infer_vector(['secretaria', 'ordeno'])\n",
    "print(vector)"
   ]
  },
  {
   "cell_type": "code",
   "execution_count": 16,
   "metadata": {},
   "outputs": [
    {
     "data": {
      "text/plain": [
       "[('nº', 0.3428289294242859),\n",
       " ('no', 0.3298179507255554),\n",
       " ('federal', 0.3096495568752289),\n",
       " ('lei', 0.2995016574859619),\n",
       " ('distrito', 0.2984026372432709),\n",
       " ('complementar', 0.27970370650291443),\n",
       " ('dezembro', 0.27346861362457275),\n",
       " ('conforme', 0.26506608724594116),\n",
       " ('sei', 0.2595835328102112),\n",
       " ('atribuição', 0.2558593153953552)]"
      ]
     },
     "execution_count": 16,
     "metadata": {},
     "output_type": "execute_result"
    }
   ],
   "source": [
    "model.wv.most_similar('abril')"
   ]
  },
  {
   "cell_type": "code",
   "execution_count": 17,
   "metadata": {},
   "outputs": [
    {
     "data": {
      "text/plain": [
       "{'diretor': <gensim.models.keyedvectors.Vocab at 0x7fda446e5c50>,\n",
       " 'geral': <gensim.models.keyedvectors.Vocab at 0x7fda446e5ba8>,\n",
       " 'do': <gensim.models.keyedvectors.Vocab at 0x7fda446e5a90>,\n",
       " 'departamento': <gensim.models.keyedvectors.Vocab at 0x7fda446e5a58>,\n",
       " 'de': <gensim.models.keyedvectors.Vocab at 0x7fda446e5ac8>,\n",
       " 'trânsito': <gensim.models.keyedvectors.Vocab at 0x7fda446e5a20>,\n",
       " 'distrito': <gensim.models.keyedvectors.Vocab at 0x7fda446e59e8>,\n",
       " 'federal': <gensim.models.keyedvectors.Vocab at 0x7fda446e59b0>,\n",
       " 'no': <gensim.models.keyedvectors.Vocab at 0x7fda446e5978>,\n",
       " 'uso': <gensim.models.keyedvectors.Vocab at 0x7fda446e5940>,\n",
       " 'da': <gensim.models.keyedvectors.Vocab at 0x7fda446e5908>,\n",
       " 'atribuição': <gensim.models.keyedvectors.Vocab at 0x7fda446e58d0>,\n",
       " 'prevista': <gensim.models.keyedvectors.Vocab at 0x7fda446e5898>,\n",
       " 'art': <gensim.models.keyedvectors.Vocab at 0x7fda446e5860>,\n",
       " 'decreto': <gensim.models.keyedvectors.Vocab at 0x7fda446e5828>,\n",
       " 'nº': <gensim.models.keyedvectors.Vocab at 0x7fda446e57f0>,\n",
       " 'abril': <gensim.models.keyedvectors.Vocab at 0x7fda446e57b8>,\n",
       " 'que': <gensim.models.keyedvectors.Vocab at 0x7fda446e5780>,\n",
       " 'regulamenta': <gensim.models.keyedvectors.Vocab at 0x7fda446e5748>,\n",
       " 'os': <gensim.models.keyedvectors.Vocab at 0x7fda446e5710>,\n",
       " 'arts': <gensim.models.keyedvectors.Vocab at 0x7fda446e56d8>,\n",
       " 'lei': <gensim.models.keyedvectors.Vocab at 0x7fda446e56a0>,\n",
       " 'complementar': <gensim.models.keyedvectors.Vocab at 0x7fda446e5668>,\n",
       " 'dezembro': <gensim.models.keyedvectors.Vocab at 0x7fda446e5630>,\n",
       " 'conforme': <gensim.models.keyedvectors.Vocab at 0x7fda446e55f8>,\n",
       " 'processo': <gensim.models.keyedvectors.Vocab at 0x7fda446e55c0>,\n",
       " 'sei': <gensim.models.keyedvectors.Vocab at 0x7fda446e5588>,\n",
       " 'resolve': <gensim.models.keyedvectors.Vocab at 0x7fda446e5550>,\n",
       " 'designar': <gensim.models.keyedvectors.Vocab at 0x7fda446e5518>,\n",
       " 'juliana': <gensim.models.keyedvectors.Vocab at 0x7fda446e54e0>,\n",
       " 'maria': <gensim.models.keyedvectors.Vocab at 0x7fda446e54a8>,\n",
       " 'carpi': <gensim.models.keyedvectors.Vocab at 0x7fda446e5470>,\n",
       " 'agente': <gensim.models.keyedvectors.Vocab at 0x7fda446e5438>,\n",
       " 'matrícula': <gensim.models.keyedvectors.Vocab at 0x7fda446e5400>,\n",
       " 'para': <gensim.models.keyedvectors.Vocab at 0x7fda446e53c8>,\n",
       " 'substituir': <gensim.models.keyedvectors.Vocab at 0x7fda446e5390>,\n",
       " 'natt': <gensim.models.keyedvectors.Vocab at 0x7fda446e5358>,\n",
       " 'douglas': <gensim.models.keyedvectors.Vocab at 0x7fda446e5320>,\n",
       " 'correa': <gensim.models.keyedvectors.Vocab at 0x7fda446e52e8>,\n",
       " 'corregedor': <gensim.models.keyedvectors.Vocab at 0x7fda446e52b0>,\n",
       " 'símbolo': <gensim.models.keyedvectors.Vocab at 0x7fda446e5278>,\n",
       " 'cne': <gensim.models.keyedvectors.Vocab at 0x7fda446e5240>,\n",
       " 'corregedoria': <gensim.models.keyedvectors.Vocab at 0x7fda446e5208>,\n",
       " 'detran': <gensim.models.keyedvectors.Vocab at 0x7fda446e51d0>,\n",
       " 'df': <gensim.models.keyedvectors.Vocab at 0x7fda446e5198>,\n",
       " 'nos': <gensim.models.keyedvectors.Vocab at 0x7fda446e5160>,\n",
       " 'períodos': <gensim.models.keyedvectors.Vocab at 0x7fda446e5128>,\n",
       " 'por': <gensim.models.keyedvectors.Vocab at 0x7fda446e50f0>,\n",
       " 'motivo': <gensim.models.keyedvectors.Vocab at 0x7fda446e5080>,\n",
       " 'férias': <gensim.models.keyedvectors.Vocab at 0x7fda4475bb00>,\n",
       " 'titular': <gensim.models.keyedvectors.Vocab at 0x7fda49fb5ba8>,\n",
       " 'fabrício': <gensim.models.keyedvectors.Vocab at 0x7fda479dbbe0>,\n",
       " 'lima': <gensim.models.keyedvectors.Vocab at 0x7fda479dbf98>,\n",
       " 'andrade': <gensim.models.keyedvectors.Vocab at 0x7fda479db5f8>,\n",
       " 'moura': <gensim.models.keyedvectors.Vocab at 0x7fda479db5c0>}"
      ]
     },
     "execution_count": 17,
     "metadata": {},
     "output_type": "execute_result"
    }
   ],
   "source": [
    "model.wv.vocab"
   ]
  }
 ],
 "metadata": {
  "kernelspec": {
   "display_name": "Python 3",
   "language": "python",
   "name": "python3"
  },
  "language_info": {
   "codemirror_mode": {
    "name": "ipython",
    "version": 3
   },
   "file_extension": ".py",
   "mimetype": "text/x-python",
   "name": "python",
   "nbconvert_exporter": "python",
   "pygments_lexer": "ipython3",
   "version": "3.6.9"
  }
 },
 "nbformat": 4,
 "nbformat_minor": 4
}
